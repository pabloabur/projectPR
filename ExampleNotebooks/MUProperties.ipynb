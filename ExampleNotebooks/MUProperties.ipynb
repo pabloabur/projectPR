{
 "cells": [
  {
   "cell_type": "markdown",
   "metadata": {
    "nbpresent": {
     "id": "916157c9-9129-4228-afb7-78039e7591ff"
    }
   },
   "source": [
    "This notebook presents a simulation of 5000 ms of 400 descending commands and 800 motoneurons from soleus. The force is prduced by a Hill-type muscle model. "
   ]
  },
  {
   "cell_type": "code",
   "execution_count": 11,
   "metadata": {
    "nbpresent": {
     "id": "50b42d7e-a96d-4314-8dd5-844326ee4a3f"
    }
   },
   "outputs": [],
   "source": [
    "import sys\n",
    "sys.path.insert(0, '..')\n",
    "import time\n",
    "import matplotlib.pyplot as plt\n",
    "%matplotlib notebook \n",
    "from IPython.display import set_matplotlib_formats\n",
    "set_matplotlib_formats('pdf', 'png')\n",
    "plt.rcParams['savefig.dpi'] = 75\n",
    "\n",
    "plt.rcParams['figure.autolayout'] = False\n",
    "plt.rcParams['figure.figsize'] = 6, 6\n",
    "plt.rcParams['axes.labelsize'] = 18\n",
    "plt.rcParams['axes.titlesize'] = 20\n",
    "plt.rcParams['font.size'] = 16\n",
    "plt.rcParams['lines.linewidth'] = 2.0\n",
    "plt.rcParams['lines.markersize'] = 8\n",
    "plt.rcParams['legend.fontsize'] = 14\n",
    "\n",
    "plt.rcParams['text.usetex'] = True\n",
    "plt.rcParams['font.family'] = \"serif\"\n",
    "plt.rcParams['font.serif'] = \"cm\"\n",
    "plt.rcParams['text.latex.preamble'] = \"\\usepackage{subdepth}, \\usepackage{type1cm}\"\n",
    "\n",
    "\n",
    "import numpy as np\n",
    "\n",
    "from Configuration import Configuration\n",
    "from MotorUnitPool import MotorUnitPool\n",
    "from NeuralTract import NeuralTract\n",
    "from AfferentPool import AfferentPool\n",
    "from SynapsesFactory import SynapsesFactory\n",
    "from jointAnkleForceTask import jointAnkleForceTask\n",
    "\n",
    "import scipy as sc\n",
    "from scipy.signal import *\n"
   ]
  },
  {
   "cell_type": "code",
   "execution_count": 12,
   "metadata": {
    "nbpresent": {
     "id": "7a3bada3-7742-4479-b886-59f21d5251e0"
    }
   },
   "outputs": [],
   "source": [
    "conf = Configuration('confMUProperties.rmto')\n",
    "conf.simDuration_ms = 700 # Here I change simulation duration without changing the Configuration file.\n",
    "t = np.arange(0.0, conf.simDuration_ms, conf.timeStep_ms)"
   ]
  },
  {
   "cell_type": "code",
   "execution_count": 13,
   "metadata": {
    "nbpresent": {
     "id": "05a35961-9a8d-473c-b310-e231a4a0496a"
    }
   },
   "outputs": [
    {
     "name": "stdout",
     "output_type": "stream",
     "text": [
      "Muscle spindle from muscle TA built.\n",
      "Motor Unit Pool TA built\n"
     ]
    }
   ],
   "source": [
    "pools = dict()\n",
    "pools[0] = MotorUnitPool(conf, 'TA')\n"
   ]
  },
  {
   "cell_type": "code",
   "execution_count": 14,
   "metadata": {},
   "outputs": [
    {
     "name": "stdout",
     "output_type": "stream",
     "text": [
      "292.335968018 seconds\n"
     ]
    }
   ],
   "source": [
    "aS1 = np.zeros_like(t)\n",
    "aS3 = np.zeros_like(t)\n",
    "aFR1 = np.zeros_like(t)\n",
    "aFR3 = np.zeros_like(t)\n",
    "aFF1 = np.zeros_like(t)\n",
    "aFF3 = np.zeros_like(t)\n",
    "tic = time.time()\n",
    "for i in xrange(0, len(t)-1):\n",
    "    for j in xrange(len(pools[0].unit)):\n",
    "        if t[i] <= 25:\n",
    "            pools[0].iInjected[2*j+1] = 10+8*j\n",
    "        else:\n",
    "            pools[0].iInjected[2*j+1] = 0\n",
    "    pools[0].atualizeMotorUnitPool(t[i])\n",
    "    aS1[i] = pools[0].Activation.activation_Sat[0] \n",
    "    aS3[i] = pools[0].Activation.activation_Sat[2] \n",
    "    aFR1[i] = pools[0].Activation.activation_Sat[3] \n",
    "    aFR3[i] = pools[0].Activation.activation_Sat[5]\n",
    "    aFF1[i] = pools[0].Activation.activation_Sat[6] \n",
    "    aFF3[i] = pools[0].Activation.activation_Sat[8] \n",
    "toc = time.time()\n",
    "print str(toc - tic) + ' seconds'"
   ]
  },
  {
   "cell_type": "code",
   "execution_count": null,
   "metadata": {
    "nbpresent": {
     "id": "cc88831e-8baa-44b0-8246-37480b9c9f3a"
    }
   },
   "outputs": [],
   "source": [
    "\n",
    "tc = np.array([])\n",
    "for i in xrange(len(pools[0].unit)):\n",
    "    tc = np.append(tc, pools[0].unit[i].TwitchTc_ms)"
   ]
  },
  {
   "cell_type": "code",
   "execution_count": null,
   "metadata": {
    "nbpresent": {
     "id": "43f3c404-0761-47fc-a388-503945034fc8"
    }
   },
   "outputs": [],
   "source": [
    "plt.figure()\n",
    "plt.hist(tc,14)\n",
    "plt.show()\n",
    "print len(pools[0].unit)"
   ]
  },
  {
   "cell_type": "markdown",
   "metadata": {},
   "source": [
    "tc1 = np.empty_like(tc)\n",
    "P0 = tc[0]\n",
    "Pn = tc[-1]\n",
    "n = len(tc)\n",
    "for i in xrange(250):\n",
    "    tc1[i] = 110 * np.exp(np.log(86.5/110)/250*i)\n",
    "\n",
    "for i in xrange(250,300):\n",
    "    tc1[i] = 86.5 * np.exp(np.log(55.25/86.5)/50*(i-250))\n",
    "    \n",
    "for i in xrange(300,350):\n",
    "    tc1[i] = 55.25 * np.exp(np.log(25/55.25)/50*(i-300))"
   ]
  },
  {
   "cell_type": "markdown",
   "metadata": {},
   "source": [
    "plt.figure()\n",
    "plt.hist(tc1,14)\n",
    "plt.show()"
   ]
  },
  {
   "cell_type": "markdown",
   "metadata": {},
   "source": [
    "tc2 = np.empty_like(tc)\n",
    "P0 = tc[0]\n",
    "Pn = tc[-1]\n",
    "n = len(tc)\n",
    "for i in xrange(n):\n",
    "    tc2[i] = P0 * np.exp(np.log(Pn/P0)/n*i)"
   ]
  },
  {
   "cell_type": "markdown",
   "metadata": {},
   "source": [
    "plt.figure()\n",
    "plt.hist(tc2,14)\n",
    "plt.show()"
   ]
  },
  {
   "cell_type": "markdown",
   "metadata": {},
   "source": [
    "n = np.linspace(0,349,350)\n",
    "tc3 = 110.0 * np.exp(np.log(25/110.0)/350.0*n)\n"
   ]
  },
  {
   "cell_type": "markdown",
   "metadata": {},
   "source": [
    "plt.figure()\n",
    "plt.hist(tc3,14)\n",
    "plt.show()"
   ]
  },
  {
   "cell_type": "markdown",
   "metadata": {},
   "source": [
    "tc1 = np.empty_like(tc3)\n",
    "\n",
    "for i in xrange(250):\n",
    "    tc1[i] = 110 * np.exp(np.log(86.5/110)/250*i)\n",
    "\n",
    "for i in xrange(250,300):\n",
    "    tc1[i] = 86.5 * np.exp(np.log(55.25/86.5)/50*(i-250))\n",
    "    \n",
    "for i in xrange(300,350):\n",
    "    tc1[i] = 55.25 * np.exp(np.log(25/55.25)/50*(i-300))"
   ]
  },
  {
   "cell_type": "markdown",
   "metadata": {},
   "source": [
    "plt.figure()\n",
    "plt.plot(n,tc1,'r-')\n",
    "plt.xlim((0,350))\n",
    "plt.ylim((20,120))\n",
    "plt.show()"
   ]
  },
  {
   "cell_type": "markdown",
   "metadata": {
    "scrolled": true
   },
   "source": [
    "tc4 = np.empty_like(tc1)\n",
    "\n",
    "for i in xrange(250):\n",
    "    tc4[i] = (110-40.0) * np.exp(-0.02*i)+40.0\n",
    "\n",
    "for i in xrange(250,350):\n",
    "    tc4[i]= (40 - 20.25) * (1 - np.exp(1/50.0*np.log((35-40.0)/(20.25-40))*(350-(i)))) + 20.25\n",
    "    \n",
    "#for i in xrange(300,350):\n",
    "#    tc4[i] = 55.25 - 30.25*(1 - np.exp(-30.25/500*(i-300)))\n",
    "    \n",
    "plt.figure()\n",
    "plt.plot(n,tc4,'r-')\n",
    "plt.xlim((0,350))\n",
    "plt.ylim((20,120))\n",
    "plt.show()"
   ]
  },
  {
   "cell_type": "markdown",
   "metadata": {},
   "source": [
    "plt.figure()\n",
    "plt.hist(tc4,14)\n",
    "plt.show()"
   ]
  },
  {
   "cell_type": "markdown",
   "metadata": {},
   "source": [
    "plt.plot(n,(250-50)*np.exp(-0.01*n)+(50)*np.exp(-0.01*n))"
   ]
  },
  {
   "cell_type": "markdown",
   "metadata": {},
   "source": [
    "tc5 = np.empty_like(tc1)\n",
    "'''\n",
    "VS1 = 100.0\n",
    "VFR1 = 45.0\n",
    "VFF1 = 35.0\n",
    "VFFN = 20.25\n",
    "'''\n",
    "VS1 = 20.25\n",
    "VFR1 = 35.0\n",
    "VFF1 = 45.0\n",
    "VFFN = 100\n",
    "Nmu = 350\n",
    "NmuS = 250\n",
    "NmuFF = 50\n",
    "\n",
    "for i in xrange(350):\n",
    "    tc5[i] = ((VS1 - VFR1) * np.exp(-5.0*i/NmuS) + \n",
    "              (VFR1 - VFFN) * (1.0 - np.exp(1.0/NmuFF*np.log((VFF1 - VFR1)/(VFFN - VFR1)) * (Nmu - i))) + VFFN)\n",
    "\n",
    "plt.figure()\n",
    "plt.plot(n,tc5,'r-')\n",
    "plt.xlim((0,350))\n",
    "plt.ylim((20,120))\n",
    "plt.show()"
   ]
  },
  {
   "cell_type": "markdown",
   "metadata": {},
   "source": [
    "plt.figure()\n",
    "plt.hist(tc5,14,rwidth=0.6,color='grey')\n",
    "plt.show()"
   ]
  },
  {
   "cell_type": "code",
   "execution_count": null,
   "metadata": {
    "collapsed": true
   },
   "outputs": [],
   "source": []
  },
  {
   "cell_type": "code",
   "execution_count": 7,
   "metadata": {},
   "outputs": [
    {
     "data": {
      "image/png": "[encoded data removed]",
      "text/plain": [
       "<matplotlib.figure.Figure at 0x7f3c4e804790>"
      ]
     },
     "metadata": {},
     "output_type": "display_data"
    }
   ],
   "source": [
    "plt.figure()\n",
    "plt.plot(t,aS1)\n",
    "plt.show()"
   ]
  },
  {
   "cell_type": "code",
   "execution_count": 8,
   "metadata": {},
   "outputs": [
    {
     "data": {
      "image/png": "[encoded data removed]",
      "text/plain": [
       "<matplotlib.figure.Figure at 0x7f3c4e46d650>"
      ]
     },
     "metadata": {},
     "output_type": "display_data"
    }
   ],
   "source": [
    "plt.figure()\n",
    "plt.plot(t,aS3)\n",
    "plt.show()"
   ]
  },
  {
   "cell_type": "code",
   "execution_count": 9,
   "metadata": {},
   "outputs": [
    {
     "data": {
      "text/plain": [
       "0.33637554433633232"
      ]
     },
     "execution_count": 9,
     "metadata": {},
     "output_type": "execute_result"
    }
   ],
   "source": [
    "2/(1+np.exp(-0.7))-1"
   ]
  },
  {
   "cell_type": "code",
   "execution_count": 10,
   "metadata": {},
   "outputs": [
    {
     "data": {
      "text/plain": [
       "0.33670033670033667"
      ]
     },
     "execution_count": 10,
     "metadata": {},
     "output_type": "execute_result"
    }
   ],
   "source": [
    "1/2.97"
   ]
  },
  {
   "cell_type": "code",
   "execution_count": 11,
   "metadata": {},
   "outputs": [
    {
     "data": {
      "text/plain": [
       "[<matplotlib.lines.Line2D at 0x7f3c4e3f1fd0>]"
      ]
     },
     "execution_count": 11,
     "metadata": {},
     "output_type": "execute_result"
    },
    {
     "data": {
      "image/png": "[encoded data removed]",
      "text/plain": [
       "<matplotlib.figure.Figure at 0x7f3c4e413b50>"
      ]
     },
     "metadata": {},
     "output_type": "display_data"
    }
   ],
   "source": [
    "plt.figure()\n",
    "plt.plot(t, pools[0].Muscle.force)"
   ]
  },
  {
   "cell_type": "code",
   "execution_count": null,
   "metadata": {
    "collapsed": true
   },
   "outputs": [],
   "source": []
  }
 ],
 "metadata": {
  "celltoolbar": "Edit Metadata",
  "kernelspec": {
   "display_name": "Python 2",
   "language": "python",
   "name": "python2"
  },
  "language_info": {
   "codemirror_mode": {
    "name": "ipython",
    "version": 2
   },
   "file_extension": ".py",
   "mimetype": "text/x-python",
   "name": "python",
   "nbconvert_exporter": "python",
   "pygments_lexer": "ipython2",
   "version": "2.7.15"
  }
 },
 "nbformat": 4,
 "nbformat_minor": 1
}
