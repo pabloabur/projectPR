{
 "cells": [
  {
   "cell_type": "markdown",
   "metadata": {},
   "source": [
    "This notebook is a simulation of 5000 ms of 400 independent descending commands following a gamma distribution with mean of 12 ms and order 10 and the Soleus muscle (800 motoneurons). Each descending command connects to approximately 30 % of the motor units. Also, a pool of 350 Renshaw cells is present."
   ]
  },
  {
   "cell_type": "code",
   "execution_count": 1,
   "metadata": {},
   "outputs": [],
   "source": [
    "import sys\n",
    "sys.path.insert(0, '..')\n",
    "import time\n",
    "import matplotlib.pyplot as plt\n",
    "%matplotlib inline  \n",
    "from IPython.display import set_matplotlib_formats\n",
    "set_matplotlib_formats('pdf', 'png')\n",
    "plt.rcParams['savefig.dpi'] = 75\n",
    "\n",
    "plt.rcParams['figure.autolayout'] = False\n",
    "plt.rcParams['figure.figsize'] = 10, 6\n",
    "plt.rcParams['axes.labelsize'] = 18\n",
    "plt.rcParams['axes.titlesize'] = 20\n",
    "plt.rcParams['font.size'] = 16\n",
    "plt.rcParams['lines.linewidth'] = 2.0\n",
    "plt.rcParams['lines.markersize'] = 8\n",
    "plt.rcParams['legend.fontsize'] = 14\n",
    "\n",
    "plt.rcParams['text.usetex'] = True\n",
    "plt.rcParams['font.family'] = \"serif\"\n",
    "plt.rcParams['font.serif'] = \"cm\"\n",
    "plt.rcParams['text.latex.preamble'] = \"\\usepackage{subdepth}, \\usepackage{type1cm}\"\n",
    "\n",
    "import numpy as np\n",
    "\n",
    "from Configuration import Configuration\n",
    "from MotorUnitPoolNoChannel import MotorUnitPoolNoChannel\n",
    "from InterneuronPoolNoChannel import InterneuronPoolNoChannel\n",
    "from NeuralTract import NeuralTract\n",
    "from SynapsesFactory import SynapsesFactory"
   ]
  },
  {
   "cell_type": "code",
   "execution_count": 2,
   "metadata": {},
   "outputs": [],
   "source": [
    "conf = Configuration('confMNPoolWithRenshawCells.rmto')\n",
    "conf.simDuration_ms = 5000 # Here I change simulation duration without changing the Configuration file."
   ]
  },
  {
   "cell_type": "code",
   "execution_count": 3,
   "metadata": {},
   "outputs": [],
   "source": [
    "# Time vector for the simulation\n",
    "t = np.arange(0.0, conf.simDuration_ms, conf.timeStep_ms)\n",
    "\n",
    "membPotential = np.zeros_like(t, dtype = 'd')"
   ]
  },
  {
   "cell_type": "code",
   "execution_count": 4,
   "metadata": {},
   "outputs": [
    {
     "name": "stdout",
     "output_type": "stream",
     "text": [
      "Muscle spindle from muscle SOL built.\n",
      "Motor Unit Pool SOL built\n",
      "Descending Command CMExt built\n",
      "Interneuron Pool of RC ext built\n",
      "All the 124404 synapses were built\n",
      "Synaptic Noise on RC_ext built\n",
      "All the 350 synaptic noises were built\n"
     ]
    }
   ],
   "source": [
    "pools = dict()\n",
    "pools[0] = MotorUnitPoolNoChannel(conf, 'SOL')\n",
    "pools[1] = NeuralTract(conf, 'CMExt')\n",
    "pools[2] = InterneuronPoolNoChannel(conf, 'RC', 'ext')\n",
    "\n",
    "Syn = SynapsesFactory(conf, pools)\n",
    "GammaOrder = 10\n",
    "FR = 1000/12.0"
   ]
  },
  {
   "cell_type": "code",
   "execution_count": null,
   "metadata": {},
   "outputs": [],
   "source": [
    "tic = time.time()\n",
    "for i in xrange(0, len(t)-1):\n",
    "    pools[1].atualizePool(t[i], FR, GammaOrder) # NeuralTract\n",
    "    pools[0].atualizeMotorUnitPool(t[i]) # MN pool\n",
    "    pools[3].atualizePool(t[i]) # RC synaptic Noise\n",
    "    pools[2].atualizeInterneuronPool(t[i]) # RC pool\n",
    "toc = time.time()\n",
    "print str(toc - tic) + ' seconds'"
   ]
  },
  {
   "cell_type": "code",
   "execution_count": null,
   "metadata": {
    "collapsed": true
   },
   "outputs": [],
   "source": [
    "pools[0].listSpikes()\n",
    "pools[1].listSpikes()\n",
    "pools[2].listSpikes()"
   ]
  },
  {
   "cell_type": "markdown",
   "metadata": {},
   "source": [
    "The spike times of all descending commands along the 5000 ms of simulation is shown in Fig. \\ref{fig:spikesDescRenshaw}."
   ]
  },
  {
   "cell_type": "code",
   "execution_count": null,
   "metadata": {
    "caption": "Spike times of all descending commands along the 5000 ms of simulation.",
    "collapsed": true,
    "label": "fig:spikesDescRenshaw",
    "widefigure": true
   },
   "outputs": [],
   "source": [
    "plt.figure()\n",
    "plt.plot(pools[1].poolTerminalSpikes[:, 0],\n",
    "         pools[1].poolTerminalSpikes[:, 1]+1, '.')\n",
    "plt.xlabel('t (ms)')\n",
    "plt.ylabel('Descending Command index')"
   ]
  },
  {
   "cell_type": "markdown",
   "metadata": {},
   "source": [
    "The spike times of the MNs along the 5000 ms of simulation is shown in Fig. \\ref{fig:spikesMNRenshaw}."
   ]
  },
  {
   "cell_type": "code",
   "execution_count": null,
   "metadata": {
    "caption": "Spike times of all motoneurons along the 5000 ms of simulation.",
    "collapsed": true,
    "label": "fig:spikesMNRenshaw",
    "widefigure": true
   },
   "outputs": [],
   "source": [
    "plt.figure()\n",
    "plt.plot(pools[0].poolTerminalSpikes[:, 0],\n",
    "         pools[0].poolTerminalSpikes[:, 1]+1, '.')\n",
    "plt.xlabel('t (ms)')\n",
    "plt.ylabel('Motor Unit index')"
   ]
  },
  {
   "cell_type": "markdown",
   "metadata": {},
   "source": [
    "The spike times of the Renshaw cells along the 5000 ms of simulation is shown in Fig. \\ref{fig:spikesRenshawRenshaw}."
   ]
  },
  {
   "cell_type": "code",
   "execution_count": null,
   "metadata": {
    "caption": "Spike times of all Renshaw cells along the 5000 ms of simulation.",
    "collapsed": true,
    "label": "fig:spikesRenshawRenshaw",
    "widefigure": true
   },
   "outputs": [],
   "source": [
    "plt.figure()\n",
    "plt.plot(pools[2].poolSomaSpikes[:, 0],\n",
    "         pools[2].poolSomaSpikes[:, 1]+1, '.')\n",
    "plt.xlabel('t (ms)')\n",
    "plt.ylabel('Renshaw cell index')"
   ]
  },
  {
   "cell_type": "markdown",
   "metadata": {},
   "source": [
    "The muscle force during the simulation \\ref{fig:forceRenshaw}."
   ]
  },
  {
   "cell_type": "code",
   "execution_count": null,
   "metadata": {
    "caption": "Muscle force during the simulation",
    "collapsed": true,
    "label": "fig:forceRenshaw",
    "widefigure": true
   },
   "outputs": [],
   "source": [
    "plt.figure()\n",
    "plt.plot(t, pools[0].Muscle.force, '-')\n",
    "plt.xlabel('t (ms)')\n",
    "plt.ylabel('Muscle force (N)')"
   ]
  },
  {
   "cell_type": "code",
   "execution_count": null,
   "metadata": {
    "collapsed": true
   },
   "outputs": [],
   "source": []
  },
  {
   "cell_type": "code",
   "execution_count": null,
   "metadata": {
    "collapsed": true
   },
   "outputs": [],
   "source": []
  }
 ],
 "metadata": {
  "celltoolbar": "Edit Metadata",
  "kernelspec": {
   "display_name": "Python 2",
   "language": "python",
   "name": "python2"
  },
  "language_info": {
   "codemirror_mode": {
    "name": "ipython",
    "version": 2
   },
   "file_extension": ".py",
   "mimetype": "text/x-python",
   "name": "python",
   "nbconvert_exporter": "python",
   "pygments_lexer": "ipython2",
   "version": "2.7.15"
  }
 },
 "nbformat": 4,
 "nbformat_minor": 1
}
